{
 "cells": [
  {
   "cell_type": "code",
   "execution_count": 32,
   "id": "113074d7-6a81-4498-a548-7f7e2227b9b9",
   "metadata": {},
   "outputs": [
    {
     "name": "stdout",
     "output_type": "stream",
     "text": [
      "Selected Stocks: [ 6  8 11 14 17]\n",
      "Allocation per stock ($): 2000.0\n",
      "Expected Portfolio Return ($): 1698.0\n"
     ]
    },
    {
     "name": "stderr",
     "output_type": "stream",
     "text": [
      "C:\\Users\\bl0112\\AppData\\Local\\anaconda3\\envs\\env_opt\\lib\\site-packages\\cvxpy\\expressions\\expression.py:650: UserWarning: \n",
      "This use of ``*`` has resulted in matrix multiplication.\n",
      "Using ``*`` for matrix multiplication has been deprecated since CVXPY 1.1.\n",
      "    Use ``*`` for matrix-scalar and vector-scalar multiplication.\n",
      "    Use ``@`` for matrix-matrix and matrix-vector multiplication.\n",
      "    Use ``multiply`` for elementwise multiplication.\n",
      "This code path has been hit 25 times so far.\n",
      "\n",
      "  warnings.warn(msg, UserWarning)\n",
      "C:\\Users\\bl0112\\AppData\\Local\\anaconda3\\envs\\env_opt\\lib\\site-packages\\cvxpy\\expressions\\expression.py:650: UserWarning: \n",
      "This use of ``*`` has resulted in matrix multiplication.\n",
      "Using ``*`` for matrix multiplication has been deprecated since CVXPY 1.1.\n",
      "    Use ``*`` for matrix-scalar and vector-scalar multiplication.\n",
      "    Use ``@`` for matrix-matrix and matrix-vector multiplication.\n",
      "    Use ``multiply`` for elementwise multiplication.\n",
      "This code path has been hit 26 times so far.\n",
      "\n",
      "  warnings.warn(msg, UserWarning)\n"
     ]
    }
   ],
   "source": [
    "import cvxpy as cp\n",
    "import numpy as np\n",
    "\n",
    "# Data for 20 stocks\n",
    "a = np.array([0.139, 0.143, 0.173, 0.096, 0.096, 0.07, 0.195, 0.164, 0.185, 0.15, .159, \n",
    "              .17, .14, .123, .145, .09, .118, .154, .138, .101])  # Annual return\n",
    "r = np.array([0.149, 0.108, 0.144, 0.144, 0.087, 0.11, 0.105, 0.149, 0.109, 0.113, .115, \n",
    "              .123, .107, .88, .103, .109, .109, .101, .114, .122])  # Risk\n",
    "budget = 10000  # Total budget in dollars\n",
    "\n",
    "# Decision variables\n",
    "x = cp.Variable(len(a), boolean=True)  # Binary decision variable for stock selection\n",
    "\n",
    "# Objective function\n",
    "objective = cp.Maximize(0.2 * budget * cp.sum(a * x))  # Fixed proportion and budget\n",
    "\n",
    "# Constraints\n",
    "constraints = [\n",
    "    cp.sum(x) == 5,  # Select exactly 5 stocks\n",
    "    cp.sum(r * x) <= 0.55  # Average risk of selected stocks must be <= 0.11 * 5 = 0.55\n",
    "]\n",
    "\n",
    "# Problem definition\n",
    "problem = cp.Problem(objective, constraints)\n",
    "\n",
    "# Solve the problem\n",
    "problem.solve(solver=cp.GUROBI)  # Use a suitable solver for binary optimization\n",
    "\n",
    "# Output results\n",
    "selected_stocks = np.where(x.value > 0.5)[0]  # Indices of selected stocks\n",
    "proportion_per_stock = 0.2\n",
    "allocation_per_stock = proportion_per_stock * budget  # Dollar allocation per selected stock\n",
    "max_return = problem.value  # Maximum portfolio return\n",
    "\n",
    "# Expected portfolio return\n",
    "expected_return = max_return\n",
    "\n",
    "# Display results\n",
    "print(\"Selected Stocks:\", selected_stocks)\n",
    "print(\"Allocation per stock ($):\", allocation_per_stock)\n",
    "print(\"Expected Portfolio Return ($):\", expected_return)"
   ]
  }
 ],
 "metadata": {
  "kernelspec": {
   "display_name": "Python 3 (ipykernel)",
   "language": "python",
   "name": "python3"
  },
  "language_info": {
   "codemirror_mode": {
    "name": "ipython",
    "version": 3
   },
   "file_extension": ".py",
   "mimetype": "text/x-python",
   "name": "python",
   "nbconvert_exporter": "python",
   "pygments_lexer": "ipython3",
   "version": "3.9.19"
  }
 },
 "nbformat": 4,
 "nbformat_minor": 5
}
